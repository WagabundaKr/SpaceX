{
  "cells": [
    {
      "cell_type": "markdown",
      "metadata": {},
      "source": [
        "<p style=\"text-align:center\">\n",
        "    <a href=\"https://skills.network/?utm_medium=Exinfluencer&utm_source=Exinfluencer&utm_content=000026UJ&utm_term=10006555&utm_id=NA-SkillsNetwork-Channel-SkillsNetworkCoursesIBMDS0321ENSkillsNetwork26802033-2022-01-01\" target=\"_blank\">\n",
        "    <img src=\"https://cf-courses-data.s3.us.cloud-object-storage.appdomain.cloud/assets/logos/SN_web_lightmode.png\" width=\"200\" alt=\"Skills Network Logo\">\n",
        "    </a>\n",
        "</p>\n"
      ]
    },
    {
      "cell_type": "markdown",
      "metadata": {},
      "source": [
        "# **SpaceX  Falcon 9 First Stage Landing Prediction**\n"
      ]
    },
    {
      "cell_type": "markdown",
      "metadata": {},
      "source": [
        "## Assignment: Exploring and Preparing Data\n"
      ]
    },
    {
      "cell_type": "markdown",
      "metadata": {},
      "source": [
        "Estimated time needed: **70** minutes\n"
      ]
    },
    {
      "cell_type": "markdown",
      "metadata": {},
      "source": [
        "In this assignment, we will predict if the Falcon 9 first stage will land successfully. SpaceX advertises Falcon 9 rocket launches on its website with a cost of 62 million dollars; other providers cost upward of 165 million dollars each, much of the savings is due to the fact that SpaceX can reuse the first stage.\n",
        "\n",
        "In this lab, you will perform Exploratory Data Analysis and Feature Engineering.\n"
      ]
    },
    {
      "cell_type": "markdown",
      "metadata": {},
      "source": [
        "Falcon 9 first stage will land successfully\n"
      ]
    },
    {
      "cell_type": "markdown",
      "metadata": {},
      "source": [
        "![](https://cf-courses-data.s3.us.cloud-object-storage.appdomain.cloud/IBMDeveloperSkillsNetwork-DS0701EN-SkillsNetwork/api/Images/landing_1.gif)\n"
      ]
    },
    {
      "cell_type": "markdown",
      "metadata": {},
      "source": [
        "Several examples of an unsuccessful landing are shown here:\n"
      ]
    },
    {
      "cell_type": "markdown",
      "metadata": {},
      "source": [
        "![](https://cf-courses-data.s3.us.cloud-object-storage.appdomain.cloud/IBMDeveloperSkillsNetwork-DS0701EN-SkillsNetwork/api/Images/crash.gif)\n"
      ]
    },
    {
      "cell_type": "markdown",
      "metadata": {},
      "source": [
        "Most unsuccessful landings are planned. Space X performs a controlled landing in the oceans.\n"
      ]
    },
    {
      "cell_type": "markdown",
      "metadata": {},
      "source": [
        "## Objectives\n",
        "\n",
        "Perform exploratory Data Analysis and Feature Engineering using `Pandas` and `Matplotlib`\n",
        "\n",
        "*   Exploratory Data Analysis\n",
        "*   Preparing Data  Feature Engineering\n"
      ]
    },
    {
      "cell_type": "markdown",
      "metadata": {},
      "source": [
        "### Import Libraries and Define Auxiliary Functions\n"
      ]
    },
    {
      "cell_type": "markdown",
      "metadata": {},
      "source": [
        "We will import the following libraries the lab\n"
      ]
    },
    {
      "cell_type": "code",
      "execution_count": 1,
      "metadata": {
        "trusted": true
      },
      "outputs": [],
      "source": [
        "import piplite\n",
        "await piplite.install(['numpy'])\n",
        "await piplite.install(['pandas'])\n",
        "await piplite.install(['seaborn'])"
      ]
    },
    {
      "cell_type": "code",
      "execution_count": 2,
      "metadata": {
        "trusted": true
      },
      "outputs": [
        {
          "name": "stderr",
          "output_type": "stream",
          "text": [
            "<ipython-input-2-cde6ab162d36>:2: DeprecationWarning: \n",
            "Pyarrow will become a required dependency of pandas in the next major release of pandas (pandas 3.0),\n",
            "(to allow more performant data types, such as the Arrow string type, and better interoperability with other libraries)\n",
            "but was not found to be installed on your system.\n",
            "If this would cause problems for you,\n",
            "please provide us feedback at https://github.com/pandas-dev/pandas/issues/54466\n",
            "        \n",
            "  import pandas as pd\n"
          ]
        }
      ],
      "source": [
        "# pandas is a software library written for the Python programming language for data manipulation and analysis.\n",
        "import pandas as pd\n",
        "#NumPy is a library for the Python programming language, adding support for large, multi-dimensional arrays and matrices, along with a large collection of high-level mathematical functions to operate on these arrays\n",
        "import numpy as np\n",
        "# Matplotlib is a plotting library for python and pyplot gives us a MatLab like plotting framework. We will use this in our plotter function to plot data.\n",
        "import matplotlib.pyplot as plt\n",
        "#Seaborn is a Python data visualization library based on matplotlib. It provides a high-level interface for drawing attractive and informative statistical graphics\n",
        "import seaborn as sns"
      ]
    },
    {
      "cell_type": "markdown",
      "metadata": {},
      "source": [
        "## Exploratory Data Analysis\n"
      ]
    },
    {
      "cell_type": "markdown",
      "metadata": {},
      "source": [
        "First, let's read the SpaceX dataset into a Pandas dataframe and print its summary\n"
      ]
    },
    {
      "cell_type": "code",
      "execution_count": 3,
      "metadata": {
        "trusted": true
      },
      "outputs": [
        {
          "data": {
            "text/html": [
              "<div>\n",
              "<style scoped>\n",
              "    .dataframe tbody tr th:only-of-type {\n",
              "        vertical-align: middle;\n",
              "    }\n",
              "\n",
              "    .dataframe tbody tr th {\n",
              "        vertical-align: top;\n",
              "    }\n",
              "\n",
              "    .dataframe thead th {\n",
              "        text-align: right;\n",
              "    }\n",
              "</style>\n",
              "<table border=\"1\" class=\"dataframe\">\n",
              "  <thead>\n",
              "    <tr style=\"text-align: right;\">\n",
              "      <th></th>\n",
              "      <th>FlightNumber</th>\n",
              "      <th>Date</th>\n",
              "      <th>BoosterVersion</th>\n",
              "      <th>PayloadMass</th>\n",
              "      <th>Orbit</th>\n",
              "      <th>LaunchSite</th>\n",
              "      <th>Outcome</th>\n",
              "      <th>Flights</th>\n",
              "      <th>GridFins</th>\n",
              "      <th>Reused</th>\n",
              "      <th>Legs</th>\n",
              "      <th>LandingPad</th>\n",
              "      <th>Block</th>\n",
              "      <th>ReusedCount</th>\n",
              "      <th>Serial</th>\n",
              "      <th>Longitude</th>\n",
              "      <th>Latitude</th>\n",
              "      <th>Class</th>\n",
              "    </tr>\n",
              "  </thead>\n",
              "  <tbody>\n",
              "    <tr>\n",
              "      <th>0</th>\n",
              "      <td>1</td>\n",
              "      <td>2010-06-04</td>\n",
              "      <td>Falcon 9</td>\n",
              "      <td>6104.959412</td>\n",
              "      <td>LEO</td>\n",
              "      <td>CCAFS SLC 40</td>\n",
              "      <td>None None</td>\n",
              "      <td>1</td>\n",
              "      <td>False</td>\n",
              "      <td>False</td>\n",
              "      <td>False</td>\n",
              "      <td>NaN</td>\n",
              "      <td>1.0</td>\n",
              "      <td>0</td>\n",
              "      <td>B0003</td>\n",
              "      <td>-80.577366</td>\n",
              "      <td>28.561857</td>\n",
              "      <td>0</td>\n",
              "    </tr>\n",
              "    <tr>\n",
              "      <th>1</th>\n",
              "      <td>2</td>\n",
              "      <td>2012-05-22</td>\n",
              "      <td>Falcon 9</td>\n",
              "      <td>525.000000</td>\n",
              "      <td>LEO</td>\n",
              "      <td>CCAFS SLC 40</td>\n",
              "      <td>None None</td>\n",
              "      <td>1</td>\n",
              "      <td>False</td>\n",
              "      <td>False</td>\n",
              "      <td>False</td>\n",
              "      <td>NaN</td>\n",
              "      <td>1.0</td>\n",
              "      <td>0</td>\n",
              "      <td>B0005</td>\n",
              "      <td>-80.577366</td>\n",
              "      <td>28.561857</td>\n",
              "      <td>0</td>\n",
              "    </tr>\n",
              "    <tr>\n",
              "      <th>2</th>\n",
              "      <td>3</td>\n",
              "      <td>2013-03-01</td>\n",
              "      <td>Falcon 9</td>\n",
              "      <td>677.000000</td>\n",
              "      <td>ISS</td>\n",
              "      <td>CCAFS SLC 40</td>\n",
              "      <td>None None</td>\n",
              "      <td>1</td>\n",
              "      <td>False</td>\n",
              "      <td>False</td>\n",
              "      <td>False</td>\n",
              "      <td>NaN</td>\n",
              "      <td>1.0</td>\n",
              "      <td>0</td>\n",
              "      <td>B0007</td>\n",
              "      <td>-80.577366</td>\n",
              "      <td>28.561857</td>\n",
              "      <td>0</td>\n",
              "    </tr>\n",
              "    <tr>\n",
              "      <th>3</th>\n",
              "      <td>4</td>\n",
              "      <td>2013-09-29</td>\n",
              "      <td>Falcon 9</td>\n",
              "      <td>500.000000</td>\n",
              "      <td>PO</td>\n",
              "      <td>VAFB SLC 4E</td>\n",
              "      <td>False Ocean</td>\n",
              "      <td>1</td>\n",
              "      <td>False</td>\n",
              "      <td>False</td>\n",
              "      <td>False</td>\n",
              "      <td>NaN</td>\n",
              "      <td>1.0</td>\n",
              "      <td>0</td>\n",
              "      <td>B1003</td>\n",
              "      <td>-120.610829</td>\n",
              "      <td>34.632093</td>\n",
              "      <td>0</td>\n",
              "    </tr>\n",
              "    <tr>\n",
              "      <th>4</th>\n",
              "      <td>5</td>\n",
              "      <td>2013-12-03</td>\n",
              "      <td>Falcon 9</td>\n",
              "      <td>3170.000000</td>\n",
              "      <td>GTO</td>\n",
              "      <td>CCAFS SLC 40</td>\n",
              "      <td>None None</td>\n",
              "      <td>1</td>\n",
              "      <td>False</td>\n",
              "      <td>False</td>\n",
              "      <td>False</td>\n",
              "      <td>NaN</td>\n",
              "      <td>1.0</td>\n",
              "      <td>0</td>\n",
              "      <td>B1004</td>\n",
              "      <td>-80.577366</td>\n",
              "      <td>28.561857</td>\n",
              "      <td>0</td>\n",
              "    </tr>\n",
              "  </tbody>\n",
              "</table>\n",
              "</div>"
            ],
            "text/plain": [
              "   FlightNumber        Date BoosterVersion  PayloadMass Orbit    LaunchSite  \\\n",
              "0             1  2010-06-04       Falcon 9  6104.959412   LEO  CCAFS SLC 40   \n",
              "1             2  2012-05-22       Falcon 9   525.000000   LEO  CCAFS SLC 40   \n",
              "2             3  2013-03-01       Falcon 9   677.000000   ISS  CCAFS SLC 40   \n",
              "3             4  2013-09-29       Falcon 9   500.000000    PO   VAFB SLC 4E   \n",
              "4             5  2013-12-03       Falcon 9  3170.000000   GTO  CCAFS SLC 40   \n",
              "\n",
              "       Outcome  Flights  GridFins  Reused   Legs LandingPad  Block  \\\n",
              "0    None None        1     False   False  False        NaN    1.0   \n",
              "1    None None        1     False   False  False        NaN    1.0   \n",
              "2    None None        1     False   False  False        NaN    1.0   \n",
              "3  False Ocean        1     False   False  False        NaN    1.0   \n",
              "4    None None        1     False   False  False        NaN    1.0   \n",
              "\n",
              "   ReusedCount Serial   Longitude   Latitude  Class  \n",
              "0            0  B0003  -80.577366  28.561857      0  \n",
              "1            0  B0005  -80.577366  28.561857      0  \n",
              "2            0  B0007  -80.577366  28.561857      0  \n",
              "3            0  B1003 -120.610829  34.632093      0  \n",
              "4            0  B1004  -80.577366  28.561857      0  "
            ]
          },
          "execution_count": 3,
          "metadata": {},
          "output_type": "execute_result"
        }
      ],
      "source": [
        "from js import fetch\n",
        "import io\n",
        "\n",
        "URL = \"https://cf-courses-data.s3.us.cloud-object-storage.appdomain.cloud/IBM-DS0321EN-SkillsNetwork/datasets/dataset_part_2.csv\"\n",
        "resp = await fetch(URL)\n",
        "dataset_part_2_csv = io.BytesIO((await resp.arrayBuffer()).to_py())\n",
        "df=pd.read_csv(dataset_part_2_csv)\n",
        "df.head(5)"
      ]
    },
    {
      "cell_type": "markdown",
      "metadata": {},
      "source": [
        "First, let's try to see how the `FlightNumber` (indicating the continuous launch attempts.) and `Payload` variables would affect the launch outcome.\n",
        "\n",
        "We can plot out the <code>FlightNumber</code> vs. <code>PayloadMass</code>and overlay the outcome of the launch. We see that as the flight number increases, the first stage is more likely to land successfully. The payload mass also appears to be a factor; even with more massive payloads, the first stage often returns successfully.\n"
      ]
    },
    {
      "cell_type": "code",
      "execution_count": 4,
      "metadata": {
        "trusted": true
      },
      "outputs": [
        {
          "data": {
            "image/png": "[encoded data removed]",
            "text/plain": [
              "<Figure size 2558.88x500 with 1 Axes>"
            ]
          },
          "metadata": {},
          "output_type": "display_data"
        }
      ],
      "source": [
        "sns.catplot(y=\"PayloadMass\", x=\"FlightNumber\", hue=\"Class\", data=df, aspect = 5)\n",
        "plt.xlabel(\"Flight Number\",fontsize=20)\n",
        "plt.ylabel(\"Pay load Mass (kg)\",fontsize=20)\n",
        "plt.show()"
      ]
    },
    {
      "cell_type": "markdown",
      "metadata": {},
      "source": [
        "Next, let's drill down to each site visualize its detailed launch records.\n"
      ]
    },
    {
      "cell_type": "markdown",
      "metadata": {},
      "source": [
        "### TASK 1: Visualize the relationship between Flight Number and Launch Site\n"
      ]
    },
    {
      "cell_type": "markdown",
      "metadata": {},
      "source": [
        "Use the function <code>catplot</code> to plot <code>FlightNumber</code> vs <code>LaunchSite</code>, set the  parameter <code>x</code>  parameter to <code>FlightNumber</code>,set the  <code>y</code> to <code>Launch Site</code> and set the parameter <code>hue</code> to <code>'class'</code>\n"
      ]
    },
    {
      "cell_type": "markdown",
      "metadata": {},
      "source": []
    },
    {
      "cell_type": "code",
      "execution_count": 5,
      "metadata": {
        "trusted": true
      },
      "outputs": [
        {
          "data": {
            "image/png": "[encoded data removed]",
            "text/plain": [
              "<Figure size 2558.88x500 with 1 Axes>"
            ]
          },
          "metadata": {},
          "output_type": "display_data"
        }
      ],
      "source": [
        "# Plot a scatter point chart with x axis to be Flight Number and y axis to be the launch site, and hue to be the class value\n",
        "sns.catplot(y='LaunchSite', x='FlightNumber', hue='Class', data=df, aspect=5)\n",
        "plt.xlabel('FlightNumber', fontsize=20)\n",
        "plt.ylabel('LaunchSite', fontsize=20)\n",
        "plt.show()"
      ]
    },
    {
      "cell_type": "markdown",
      "metadata": {},
      "source": [
        "Now try to explain the patterns you found in the Flight Number vs. Launch Site scatter point plots.\n"
      ]
    },
    {
      "cell_type": "markdown",
      "metadata": {},
      "source": [
        "### TASK 2: Visualize the relationship between Payload Mass and Launch Site\n"
      ]
    },
    {
      "cell_type": "markdown",
      "metadata": {},
      "source": [
        "We also want to observe if there is any relationship between launch sites and their payload mass.\n"
      ]
    },
    {
      "cell_type": "code",
      "execution_count": 8,
      "metadata": {
        "trusted": true
      },
      "outputs": [
        {
          "data": {
            "image/png": "[encoded data removed]",
            "text/plain": [
              "<Figure size 640x480 with 1 Axes>"
            ]
          },
          "metadata": {},
          "output_type": "display_data"
        }
      ],
      "source": [
        "# Plot a scatter point chart with x axis to be Pay Load Mass (kg) and y axis to be the launch site, and hue to be the class value\n",
        "sns.scatterplot(x='PayloadMass', y='LaunchSite', hue='Class', data=df)\n",
        "plt.xlabel('PayloadMass', fontsize=20)\n",
        "plt.ylabel('LaunchSite', fontsize=20)\n",
        "plt.show()"
      ]
    },
    {
      "cell_type": "markdown",
      "metadata": {},
      "source": [
        "Now if you observe Payload Mass Vs. Launch Site scatter point chart you will find for the VAFB-SLC  launchsite there are no  rockets  launched for  heavypayload mass(greater than 10000).\n"
      ]
    },
    {
      "cell_type": "markdown",
      "metadata": {},
      "source": [
        "### TASK  3: Visualize the relationship between success rate of each orbit type\n"
      ]
    },
    {
      "cell_type": "markdown",
      "metadata": {},
      "source": [
        "Next, we want to visually check if there are any relationship between success rate and orbit type.\n"
      ]
    },
    {
      "cell_type": "markdown",
      "metadata": {},
      "source": [
        "Let's create a `bar chart` for the sucess rate of each orbit\n"
      ]
    },
    {
      "cell_type": "code",
      "execution_count": 15,
      "metadata": {
        "trusted": true
      },
      "outputs": [
        {
          "data": {
            "image/png": "[encoded data removed]",
            "text/plain": [
              "<Figure size 640x480 with 1 Axes>"
            ]
          },
          "metadata": {},
          "output_type": "display_data"
        }
      ],
      "source": [
        "# HINT use groupby method on Orbit column and get the mean of Class column\n",
        "df_gr = df[['Orbit','Class']].groupby(['Orbit'], as_index=False).mean()\n",
        "sns.barplot(x='Orbit', y='Class', data=df_gr)\n",
        "plt.xlabel('Orbit', fontsize=20)\n",
        "plt.ylabel('Success', fontsize=20)\n",
        "plt.show()\n"
      ]
    },
    {
      "cell_type": "markdown",
      "metadata": {},
      "source": [
        "Analyze the plotted bar chart to identify which orbits have the highest success rates.\n"
      ]
    },
    {
      "cell_type": "markdown",
      "metadata": {},
      "source": [
        "### TASK  4: Visualize the relationship between FlightNumber and Orbit type\n"
      ]
    },
    {
      "cell_type": "markdown",
      "metadata": {},
      "source": [
        "For each orbit, we want to see if there is any relationship between FlightNumber and Orbit type.\n"
      ]
    },
    {
      "cell_type": "code",
      "execution_count": 17,
      "metadata": {
        "trusted": true
      },
      "outputs": [
        {
          "data": {
            "text/plain": [
              "<AxesSubplot:xlabel='FlightNumber', ylabel='Orbit'>"
            ]
          },
          "execution_count": 17,
          "metadata": {},
          "output_type": "execute_result"
        },
        {
          "data": {
            "image/png": "[encoded data removed]",
            "text/plain": [
              "<Figure size 640x480 with 1 Axes>"
            ]
          },
          "metadata": {},
          "output_type": "display_data"
        }
      ],
      "source": [
        "# Plot a scatter point chart with x axis to be FlightNumber and y axis to be the Orbit, and hue to be the class value\n",
        "sns.scatterplot(x='FlightNumber', y='Orbit', hue='Class', data=df)"
      ]
    },
    {
      "cell_type": "markdown",
      "metadata": {},
      "source": [
        "You can observe that in the LEO orbit, success seems to be related to the number of flights. Conversely, in the GTO orbit, there appears to be no relationship between flight number and success.\n"
      ]
    },
    {
      "cell_type": "markdown",
      "metadata": {},
      "source": [
        "### TASK  5: Visualize the relationship between Payload Mass and Orbit type\n"
      ]
    },
    {
      "cell_type": "markdown",
      "metadata": {},
      "source": [
        "Similarly, we can plot the Payload Mass vs. Orbit scatter point charts to reveal the relationship between Payload Mass and Orbit type\n"
      ]
    },
    {
      "cell_type": "code",
      "execution_count": 18,
      "metadata": {
        "trusted": true
      },
      "outputs": [
        {
          "data": {
            "text/plain": [
              "<AxesSubplot:xlabel='PayloadMass', ylabel='Orbit'>"
            ]
          },
          "execution_count": 18,
          "metadata": {},
          "output_type": "execute_result"
        },
        {
          "data": {
            "image/png": "[encoded data removed]",
            "text/plain": [
              "<Figure size 640x480 with 1 Axes>"
            ]
          },
          "metadata": {},
          "output_type": "display_data"
        }
      ],
      "source": [
        "# Plot a scatter point chart with x axis to be Payload Mass and y axis to be the Orbit, and hue to be the class value\n",
        "sns.scatterplot(x='PayloadMass', y='Orbit', hue='Class', data=df)"
      ]
    },
    {
      "cell_type": "markdown",
      "metadata": {},
      "source": [
        "With heavy payloads the successful landing or positive landing rate are more for Polar,LEO and ISS.\n",
        "\n",
        "However, for GTO, it's difficult to distinguish between successful and unsuccessful landings as both outcomes are present.\n"
      ]
    },
    {
      "cell_type": "markdown",
      "metadata": {},
      "source": [
        "### TASK  6: Visualize the launch success yearly trend\n"
      ]
    },
    {
      "cell_type": "markdown",
      "metadata": {},
      "source": [
        "You can plot a line chart with x axis to be <code>Year</code> and y axis to be average success rate, to get the average launch success trend.\n"
      ]
    },
    {
      "cell_type": "markdown",
      "metadata": {},
      "source": [
        "The function will help you get the year from the date:\n"
      ]
    },
    {
      "cell_type": "code",
      "execution_count": 19,
      "metadata": {
        "trusted": true
      },
      "outputs": [
        {
          "data": {
            "text/html": [
              "<div>\n",
              "<style scoped>\n",
              "    .dataframe tbody tr th:only-of-type {\n",
              "        vertical-align: middle;\n",
              "    }\n",
              "\n",
              "    .dataframe tbody tr th {\n",
              "        vertical-align: top;\n",
              "    }\n",
              "\n",
              "    .dataframe thead th {\n",
              "        text-align: right;\n",
              "    }\n",
              "</style>\n",
              "<table border=\"1\" class=\"dataframe\">\n",
              "  <thead>\n",
              "    <tr style=\"text-align: right;\">\n",
              "      <th></th>\n",
              "      <th>FlightNumber</th>\n",
              "      <th>Date</th>\n",
              "      <th>BoosterVersion</th>\n",
              "      <th>PayloadMass</th>\n",
              "      <th>Orbit</th>\n",
              "      <th>LaunchSite</th>\n",
              "      <th>Outcome</th>\n",
              "      <th>Flights</th>\n",
              "      <th>GridFins</th>\n",
              "      <th>Reused</th>\n",
              "      <th>Legs</th>\n",
              "      <th>LandingPad</th>\n",
              "      <th>Block</th>\n",
              "      <th>ReusedCount</th>\n",
              "      <th>Serial</th>\n",
              "      <th>Longitude</th>\n",
              "      <th>Latitude</th>\n",
              "      <th>Class</th>\n",
              "    </tr>\n",
              "  </thead>\n",
              "  <tbody>\n",
              "    <tr>\n",
              "      <th>0</th>\n",
              "      <td>1</td>\n",
              "      <td>2010</td>\n",
              "      <td>Falcon 9</td>\n",
              "      <td>6104.959412</td>\n",
              "      <td>LEO</td>\n",
              "      <td>CCAFS SLC 40</td>\n",
              "      <td>None None</td>\n",
              "      <td>1</td>\n",
              "      <td>False</td>\n",
              "      <td>False</td>\n",
              "      <td>False</td>\n",
              "      <td>NaN</td>\n",
              "      <td>1.0</td>\n",
              "      <td>0</td>\n",
              "      <td>B0003</td>\n",
              "      <td>-80.577366</td>\n",
              "      <td>28.561857</td>\n",
              "      <td>0</td>\n",
              "    </tr>\n",
              "    <tr>\n",
              "      <th>1</th>\n",
              "      <td>2</td>\n",
              "      <td>2012</td>\n",
              "      <td>Falcon 9</td>\n",
              "      <td>525.000000</td>\n",
              "      <td>LEO</td>\n",
              "      <td>CCAFS SLC 40</td>\n",
              "      <td>None None</td>\n",
              "      <td>1</td>\n",
              "      <td>False</td>\n",
              "      <td>False</td>\n",
              "      <td>False</td>\n",
              "      <td>NaN</td>\n",
              "      <td>1.0</td>\n",
              "      <td>0</td>\n",
              "      <td>B0005</td>\n",
              "      <td>-80.577366</td>\n",
              "      <td>28.561857</td>\n",
              "      <td>0</td>\n",
              "    </tr>\n",
              "    <tr>\n",
              "      <th>2</th>\n",
              "      <td>3</td>\n",
              "      <td>2013</td>\n",
              "      <td>Falcon 9</td>\n",
              "      <td>677.000000</td>\n",
              "      <td>ISS</td>\n",
              "      <td>CCAFS SLC 40</td>\n",
              "      <td>None None</td>\n",
              "      <td>1</td>\n",
              "      <td>False</td>\n",
              "      <td>False</td>\n",
              "      <td>False</td>\n",
              "      <td>NaN</td>\n",
              "      <td>1.0</td>\n",
              "      <td>0</td>\n",
              "      <td>B0007</td>\n",
              "      <td>-80.577366</td>\n",
              "      <td>28.561857</td>\n",
              "      <td>0</td>\n",
              "    </tr>\n",
              "    <tr>\n",
              "      <th>3</th>\n",
              "      <td>4</td>\n",
              "      <td>2013</td>\n",
              "      <td>Falcon 9</td>\n",
              "      <td>500.000000</td>\n",
              "      <td>PO</td>\n",
              "      <td>VAFB SLC 4E</td>\n",
              "      <td>False Ocean</td>\n",
              "      <td>1</td>\n",
              "      <td>False</td>\n",
              "      <td>False</td>\n",
              "      <td>False</td>\n",
              "      <td>NaN</td>\n",
              "      <td>1.0</td>\n",
              "      <td>0</td>\n",
              "      <td>B1003</td>\n",
              "      <td>-120.610829</td>\n",
              "      <td>34.632093</td>\n",
              "      <td>0</td>\n",
              "    </tr>\n",
              "    <tr>\n",
              "      <th>4</th>\n",
              "      <td>5</td>\n",
              "      <td>2013</td>\n",
              "      <td>Falcon 9</td>\n",
              "      <td>3170.000000</td>\n",
              "      <td>GTO</td>\n",
              "      <td>CCAFS SLC 40</td>\n",
              "      <td>None None</td>\n",
              "      <td>1</td>\n",
              "      <td>False</td>\n",
              "      <td>False</td>\n",
              "      <td>False</td>\n",
              "      <td>NaN</td>\n",
              "      <td>1.0</td>\n",
              "      <td>0</td>\n",
              "      <td>B1004</td>\n",
              "      <td>-80.577366</td>\n",
              "      <td>28.561857</td>\n",
              "      <td>0</td>\n",
              "    </tr>\n",
              "  </tbody>\n",
              "</table>\n",
              "</div>"
            ],
            "text/plain": [
              "   FlightNumber  Date BoosterVersion  PayloadMass Orbit    LaunchSite  \\\n",
              "0             1  2010       Falcon 9  6104.959412   LEO  CCAFS SLC 40   \n",
              "1             2  2012       Falcon 9   525.000000   LEO  CCAFS SLC 40   \n",
              "2             3  2013       Falcon 9   677.000000   ISS  CCAFS SLC 40   \n",
              "3             4  2013       Falcon 9   500.000000    PO   VAFB SLC 4E   \n",
              "4             5  2013       Falcon 9  3170.000000   GTO  CCAFS SLC 40   \n",
              "\n",
              "       Outcome  Flights  GridFins  Reused   Legs LandingPad  Block  \\\n",
              "0    None None        1     False   False  False        NaN    1.0   \n",
              "1    None None        1     False   False  False        NaN    1.0   \n",
              "2    None None        1     False   False  False        NaN    1.0   \n",
              "3  False Ocean        1     False   False  False        NaN    1.0   \n",
              "4    None None        1     False   False  False        NaN    1.0   \n",
              "\n",
              "   ReusedCount Serial   Longitude   Latitude  Class  \n",
              "0            0  B0003  -80.577366  28.561857      0  \n",
              "1            0  B0005  -80.577366  28.561857      0  \n",
              "2            0  B0007  -80.577366  28.561857      0  \n",
              "3            0  B1003 -120.610829  34.632093      0  \n",
              "4            0  B1004  -80.577366  28.561857      0  "
            ]
          },
          "execution_count": 19,
          "metadata": {},
          "output_type": "execute_result"
        }
      ],
      "source": [
        "# A function to Extract years from the date \n",
        "year=[]\n",
        "def Extract_year():\n",
        "    for i in df[\"Date\"]:\n",
        "        year.append(i.split(\"-\")[0])\n",
        "    return year\n",
        "Extract_year()\n",
        "df['Date'] = year\n",
        "df.head()\n",
        "    "
      ]
    },
    {
      "cell_type": "code",
      "execution_count": 27,
      "metadata": {
        "trusted": true
      },
      "outputs": [
        {
          "data": {
            "image/png": "[encoded data removed]",
            "text/plain": [
              "<Figure size 640x480 with 1 Axes>"
            ]
          },
          "metadata": {},
          "output_type": "display_data"
        },
        {
          "data": {
            "text/html": [
              "<div>\n",
              "<style scoped>\n",
              "    .dataframe tbody tr th:only-of-type {\n",
              "        vertical-align: middle;\n",
              "    }\n",
              "\n",
              "    .dataframe tbody tr th {\n",
              "        vertical-align: top;\n",
              "    }\n",
              "\n",
              "    .dataframe thead th {\n",
              "        text-align: right;\n",
              "    }\n",
              "</style>\n",
              "<table border=\"1\" class=\"dataframe\">\n",
              "  <thead>\n",
              "    <tr style=\"text-align: right;\">\n",
              "      <th></th>\n",
              "      <th>Date</th>\n",
              "      <th>Class</th>\n",
              "    </tr>\n",
              "  </thead>\n",
              "  <tbody>\n",
              "    <tr>\n",
              "      <th>0</th>\n",
              "      <td>2010</td>\n",
              "      <td>0.000000</td>\n",
              "    </tr>\n",
              "    <tr>\n",
              "      <th>1</th>\n",
              "      <td>2012</td>\n",
              "      <td>0.000000</td>\n",
              "    </tr>\n",
              "    <tr>\n",
              "      <th>2</th>\n",
              "      <td>2013</td>\n",
              "      <td>0.000000</td>\n",
              "    </tr>\n",
              "    <tr>\n",
              "      <th>3</th>\n",
              "      <td>2014</td>\n",
              "      <td>0.333333</td>\n",
              "    </tr>\n",
              "    <tr>\n",
              "      <th>4</th>\n",
              "      <td>2015</td>\n",
              "      <td>0.333333</td>\n",
              "    </tr>\n",
              "    <tr>\n",
              "      <th>5</th>\n",
              "      <td>2016</td>\n",
              "      <td>0.625000</td>\n",
              "    </tr>\n",
              "    <tr>\n",
              "      <th>6</th>\n",
              "      <td>2017</td>\n",
              "      <td>0.833333</td>\n",
              "    </tr>\n",
              "    <tr>\n",
              "      <th>7</th>\n",
              "      <td>2018</td>\n",
              "      <td>0.611111</td>\n",
              "    </tr>\n",
              "    <tr>\n",
              "      <th>8</th>\n",
              "      <td>2019</td>\n",
              "      <td>0.900000</td>\n",
              "    </tr>\n",
              "    <tr>\n",
              "      <th>9</th>\n",
              "      <td>2020</td>\n",
              "      <td>0.842105</td>\n",
              "    </tr>\n",
              "  </tbody>\n",
              "</table>\n",
              "</div>"
            ],
            "text/plain": [
              "   Date     Class\n",
              "0  2010  0.000000\n",
              "1  2012  0.000000\n",
              "2  2013  0.000000\n",
              "3  2014  0.333333\n",
              "4  2015  0.333333\n",
              "5  2016  0.625000\n",
              "6  2017  0.833333\n",
              "7  2018  0.611111\n",
              "8  2019  0.900000\n",
              "9  2020  0.842105"
            ]
          },
          "execution_count": 27,
          "metadata": {},
          "output_type": "execute_result"
        }
      ],
      "source": [
        "# Plot a line chart with x axis to be the extracted year and y axis to be the success rate\n",
        "df_av = df[['Date', 'Class']].groupby(['Date'], as_index=False).mean()\n",
        "df_av[['Date']] = df_av[['Date']].astype('int')\n",
        "sns.regplot(x='Date', y='Class', data=df_av)\n",
        "plt.show()\n",
        "df_av\n"
      ]
    },
    {
      "cell_type": "markdown",
      "metadata": {},
      "source": [
        "you can observe that the sucess rate since 2013 kept increasing till 2020\n"
      ]
    },
    {
      "cell_type": "markdown",
      "metadata": {},
      "source": [
        "## Features Engineering\n"
      ]
    },
    {
      "cell_type": "markdown",
      "metadata": {},
      "source": [
        "By now, you should obtain some preliminary insights about how each important variable would affect the success rate, we will select the features that will be used in success prediction in the future module.\n"
      ]
    },
    {
      "cell_type": "code",
      "execution_count": 28,
      "metadata": {
        "trusted": true
      },
      "outputs": [
        {
          "data": {
            "text/html": [
              "<div>\n",
              "<style scoped>\n",
              "    .dataframe tbody tr th:only-of-type {\n",
              "        vertical-align: middle;\n",
              "    }\n",
              "\n",
              "    .dataframe tbody tr th {\n",
              "        vertical-align: top;\n",
              "    }\n",
              "\n",
              "    .dataframe thead th {\n",
              "        text-align: right;\n",
              "    }\n",
              "</style>\n",
              "<table border=\"1\" class=\"dataframe\">\n",
              "  <thead>\n",
              "    <tr style=\"text-align: right;\">\n",
              "      <th></th>\n",
              "      <th>FlightNumber</th>\n",
              "      <th>PayloadMass</th>\n",
              "      <th>Orbit</th>\n",
              "      <th>LaunchSite</th>\n",
              "      <th>Flights</th>\n",
              "      <th>GridFins</th>\n",
              "      <th>Reused</th>\n",
              "      <th>Legs</th>\n",
              "      <th>LandingPad</th>\n",
              "      <th>Block</th>\n",
              "      <th>ReusedCount</th>\n",
              "      <th>Serial</th>\n",
              "    </tr>\n",
              "  </thead>\n",
              "  <tbody>\n",
              "    <tr>\n",
              "      <th>0</th>\n",
              "      <td>1</td>\n",
              "      <td>6104.959412</td>\n",
              "      <td>LEO</td>\n",
              "      <td>CCAFS SLC 40</td>\n",
              "      <td>1</td>\n",
              "      <td>False</td>\n",
              "      <td>False</td>\n",
              "      <td>False</td>\n",
              "      <td>NaN</td>\n",
              "      <td>1.0</td>\n",
              "      <td>0</td>\n",
              "      <td>B0003</td>\n",
              "    </tr>\n",
              "    <tr>\n",
              "      <th>1</th>\n",
              "      <td>2</td>\n",
              "      <td>525.000000</td>\n",
              "      <td>LEO</td>\n",
              "      <td>CCAFS SLC 40</td>\n",
              "      <td>1</td>\n",
              "      <td>False</td>\n",
              "      <td>False</td>\n",
              "      <td>False</td>\n",
              "      <td>NaN</td>\n",
              "      <td>1.0</td>\n",
              "      <td>0</td>\n",
              "      <td>B0005</td>\n",
              "    </tr>\n",
              "    <tr>\n",
              "      <th>2</th>\n",
              "      <td>3</td>\n",
              "      <td>677.000000</td>\n",
              "      <td>ISS</td>\n",
              "      <td>CCAFS SLC 40</td>\n",
              "      <td>1</td>\n",
              "      <td>False</td>\n",
              "      <td>False</td>\n",
              "      <td>False</td>\n",
              "      <td>NaN</td>\n",
              "      <td>1.0</td>\n",
              "      <td>0</td>\n",
              "      <td>B0007</td>\n",
              "    </tr>\n",
              "    <tr>\n",
              "      <th>3</th>\n",
              "      <td>4</td>\n",
              "      <td>500.000000</td>\n",
              "      <td>PO</td>\n",
              "      <td>VAFB SLC 4E</td>\n",
              "      <td>1</td>\n",
              "      <td>False</td>\n",
              "      <td>False</td>\n",
              "      <td>False</td>\n",
              "      <td>NaN</td>\n",
              "      <td>1.0</td>\n",
              "      <td>0</td>\n",
              "      <td>B1003</td>\n",
              "    </tr>\n",
              "    <tr>\n",
              "      <th>4</th>\n",
              "      <td>5</td>\n",
              "      <td>3170.000000</td>\n",
              "      <td>GTO</td>\n",
              "      <td>CCAFS SLC 40</td>\n",
              "      <td>1</td>\n",
              "      <td>False</td>\n",
              "      <td>False</td>\n",
              "      <td>False</td>\n",
              "      <td>NaN</td>\n",
              "      <td>1.0</td>\n",
              "      <td>0</td>\n",
              "      <td>B1004</td>\n",
              "    </tr>\n",
              "  </tbody>\n",
              "</table>\n",
              "</div>"
            ],
            "text/plain": [
              "   FlightNumber  PayloadMass Orbit    LaunchSite  Flights  GridFins  Reused  \\\n",
              "0             1  6104.959412   LEO  CCAFS SLC 40        1     False   False   \n",
              "1             2   525.000000   LEO  CCAFS SLC 40        1     False   False   \n",
              "2             3   677.000000   ISS  CCAFS SLC 40        1     False   False   \n",
              "3             4   500.000000    PO   VAFB SLC 4E        1     False   False   \n",
              "4             5  3170.000000   GTO  CCAFS SLC 40        1     False   False   \n",
              "\n",
              "    Legs LandingPad  Block  ReusedCount Serial  \n",
              "0  False        NaN    1.0            0  B0003  \n",
              "1  False        NaN    1.0            0  B0005  \n",
              "2  False        NaN    1.0            0  B0007  \n",
              "3  False        NaN    1.0            0  B1003  \n",
              "4  False        NaN    1.0            0  B1004  "
            ]
          },
          "execution_count": 28,
          "metadata": {},
          "output_type": "execute_result"
        }
      ],
      "source": [
        "features = df[['FlightNumber', 'PayloadMass', 'Orbit', 'LaunchSite', 'Flights', 'GridFins', 'Reused', 'Legs', 'LandingPad', 'Block', 'ReusedCount', 'Serial']]\n",
        "features.head()"
      ]
    },
    {
      "cell_type": "markdown",
      "metadata": {},
      "source": [
        "### TASK  7: Create dummy variables to categorical columns\n"
      ]
    },
    {
      "cell_type": "markdown",
      "metadata": {},
      "source": [
        "Use the function <code>get_dummies</code> and <code>features</code> dataframe to apply OneHotEncoder to the column <code>Orbits</code>, <code>LaunchSite</code>, <code>LandingPad</code>, and <code>Serial</code>. Assign the value to the variable <code>features_one_hot</code>, display the results using the method head. Your result dataframe must include all features including the encoded ones.\n"
      ]
    },
    {
      "cell_type": "code",
      "execution_count": 31,
      "metadata": {
        "trusted": true
      },
      "outputs": [
        {
          "data": {
            "text/html": [
              "<div>\n",
              "<style scoped>\n",
              "    .dataframe tbody tr th:only-of-type {\n",
              "        vertical-align: middle;\n",
              "    }\n",
              "\n",
              "    .dataframe tbody tr th {\n",
              "        vertical-align: top;\n",
              "    }\n",
              "\n",
              "    .dataframe thead th {\n",
              "        text-align: right;\n",
              "    }\n",
              "</style>\n",
              "<table border=\"1\" class=\"dataframe\">\n",
              "  <thead>\n",
              "    <tr style=\"text-align: right;\">\n",
              "      <th></th>\n",
              "      <th>Orbit_ES-L1</th>\n",
              "      <th>Orbit_GEO</th>\n",
              "      <th>Orbit_GTO</th>\n",
              "      <th>Orbit_HEO</th>\n",
              "      <th>Orbit_ISS</th>\n",
              "      <th>Orbit_LEO</th>\n",
              "      <th>Orbit_MEO</th>\n",
              "      <th>Orbit_PO</th>\n",
              "      <th>Orbit_SO</th>\n",
              "      <th>Orbit_SSO</th>\n",
              "      <th>...</th>\n",
              "      <th>Serial_B1048</th>\n",
              "      <th>Serial_B1049</th>\n",
              "      <th>Serial_B1050</th>\n",
              "      <th>Serial_B1051</th>\n",
              "      <th>Serial_B1054</th>\n",
              "      <th>Serial_B1056</th>\n",
              "      <th>Serial_B1058</th>\n",
              "      <th>Serial_B1059</th>\n",
              "      <th>Serial_B1060</th>\n",
              "      <th>Serial_B1062</th>\n",
              "    </tr>\n",
              "  </thead>\n",
              "  <tbody>\n",
              "    <tr>\n",
              "      <th>0</th>\n",
              "      <td>False</td>\n",
              "      <td>False</td>\n",
              "      <td>False</td>\n",
              "      <td>False</td>\n",
              "      <td>False</td>\n",
              "      <td>True</td>\n",
              "      <td>False</td>\n",
              "      <td>False</td>\n",
              "      <td>False</td>\n",
              "      <td>False</td>\n",
              "      <td>...</td>\n",
              "      <td>False</td>\n",
              "      <td>False</td>\n",
              "      <td>False</td>\n",
              "      <td>False</td>\n",
              "      <td>False</td>\n",
              "      <td>False</td>\n",
              "      <td>False</td>\n",
              "      <td>False</td>\n",
              "      <td>False</td>\n",
              "      <td>False</td>\n",
              "    </tr>\n",
              "    <tr>\n",
              "      <th>1</th>\n",
              "      <td>False</td>\n",
              "      <td>False</td>\n",
              "      <td>False</td>\n",
              "      <td>False</td>\n",
              "      <td>False</td>\n",
              "      <td>True</td>\n",
              "      <td>False</td>\n",
              "      <td>False</td>\n",
              "      <td>False</td>\n",
              "      <td>False</td>\n",
              "      <td>...</td>\n",
              "      <td>False</td>\n",
              "      <td>False</td>\n",
              "      <td>False</td>\n",
              "      <td>False</td>\n",
              "      <td>False</td>\n",
              "      <td>False</td>\n",
              "      <td>False</td>\n",
              "      <td>False</td>\n",
              "      <td>False</td>\n",
              "      <td>False</td>\n",
              "    </tr>\n",
              "    <tr>\n",
              "      <th>2</th>\n",
              "      <td>False</td>\n",
              "      <td>False</td>\n",
              "      <td>False</td>\n",
              "      <td>False</td>\n",
              "      <td>True</td>\n",
              "      <td>False</td>\n",
              "      <td>False</td>\n",
              "      <td>False</td>\n",
              "      <td>False</td>\n",
              "      <td>False</td>\n",
              "      <td>...</td>\n",
              "      <td>False</td>\n",
              "      <td>False</td>\n",
              "      <td>False</td>\n",
              "      <td>False</td>\n",
              "      <td>False</td>\n",
              "      <td>False</td>\n",
              "      <td>False</td>\n",
              "      <td>False</td>\n",
              "      <td>False</td>\n",
              "      <td>False</td>\n",
              "    </tr>\n",
              "    <tr>\n",
              "      <th>3</th>\n",
              "      <td>False</td>\n",
              "      <td>False</td>\n",
              "      <td>False</td>\n",
              "      <td>False</td>\n",
              "      <td>False</td>\n",
              "      <td>False</td>\n",
              "      <td>False</td>\n",
              "      <td>True</td>\n",
              "      <td>False</td>\n",
              "      <td>False</td>\n",
              "      <td>...</td>\n",
              "      <td>False</td>\n",
              "      <td>False</td>\n",
              "      <td>False</td>\n",
              "      <td>False</td>\n",
              "      <td>False</td>\n",
              "      <td>False</td>\n",
              "      <td>False</td>\n",
              "      <td>False</td>\n",
              "      <td>False</td>\n",
              "      <td>False</td>\n",
              "    </tr>\n",
              "    <tr>\n",
              "      <th>4</th>\n",
              "      <td>False</td>\n",
              "      <td>False</td>\n",
              "      <td>True</td>\n",
              "      <td>False</td>\n",
              "      <td>False</td>\n",
              "      <td>False</td>\n",
              "      <td>False</td>\n",
              "      <td>False</td>\n",
              "      <td>False</td>\n",
              "      <td>False</td>\n",
              "      <td>...</td>\n",
              "      <td>False</td>\n",
              "      <td>False</td>\n",
              "      <td>False</td>\n",
              "      <td>False</td>\n",
              "      <td>False</td>\n",
              "      <td>False</td>\n",
              "      <td>False</td>\n",
              "      <td>False</td>\n",
              "      <td>False</td>\n",
              "      <td>False</td>\n",
              "    </tr>\n",
              "  </tbody>\n",
              "</table>\n",
              "<p>5 rows × 72 columns</p>\n",
              "</div>"
            ],
            "text/plain": [
              "   Orbit_ES-L1  Orbit_GEO  Orbit_GTO  Orbit_HEO  Orbit_ISS  Orbit_LEO  \\\n",
              "0        False      False      False      False      False       True   \n",
              "1        False      False      False      False      False       True   \n",
              "2        False      False      False      False       True      False   \n",
              "3        False      False      False      False      False      False   \n",
              "4        False      False       True      False      False      False   \n",
              "\n",
              "   Orbit_MEO  Orbit_PO  Orbit_SO  Orbit_SSO  ...  Serial_B1048  Serial_B1049  \\\n",
              "0      False     False     False      False  ...         False         False   \n",
              "1      False     False     False      False  ...         False         False   \n",
              "2      False     False     False      False  ...         False         False   \n",
              "3      False      True     False      False  ...         False         False   \n",
              "4      False     False     False      False  ...         False         False   \n",
              "\n",
              "   Serial_B1050  Serial_B1051  Serial_B1054  Serial_B1056  Serial_B1058  \\\n",
              "0         False         False         False         False         False   \n",
              "1         False         False         False         False         False   \n",
              "2         False         False         False         False         False   \n",
              "3         False         False         False         False         False   \n",
              "4         False         False         False         False         False   \n",
              "\n",
              "   Serial_B1059  Serial_B1060  Serial_B1062  \n",
              "0         False         False         False  \n",
              "1         False         False         False  \n",
              "2         False         False         False  \n",
              "3         False         False         False  \n",
              "4         False         False         False  \n",
              "\n",
              "[5 rows x 72 columns]"
            ]
          },
          "execution_count": 31,
          "metadata": {},
          "output_type": "execute_result"
        }
      ],
      "source": [
        "# HINT: Use get_dummies() function on the categorical columns\n",
        "features_one_hot = pd.get_dummies(features[['Orbit', 'LaunchSite', 'LandingPad', 'Serial']])\n",
        "\n",
        "features_one_hot.head()"
      ]
    },
    {
      "cell_type": "markdown",
      "metadata": {},
      "source": [
        "### TASK  8: Cast all numeric columns to `float64`\n"
      ]
    },
    {
      "cell_type": "markdown",
      "metadata": {},
      "source": [
        "Now that our <code>features_one_hot</code> dataframe only contains numbers, cast the entire dataframe to variable type <code>float64</code>\n"
      ]
    },
    {
      "cell_type": "code",
      "execution_count": 33,
      "metadata": {
        "trusted": true
      },
      "outputs": [
        {
          "data": {
            "text/html": [
              "<div>\n",
              "<style scoped>\n",
              "    .dataframe tbody tr th:only-of-type {\n",
              "        vertical-align: middle;\n",
              "    }\n",
              "\n",
              "    .dataframe tbody tr th {\n",
              "        vertical-align: top;\n",
              "    }\n",
              "\n",
              "    .dataframe thead th {\n",
              "        text-align: right;\n",
              "    }\n",
              "</style>\n",
              "<table border=\"1\" class=\"dataframe\">\n",
              "  <thead>\n",
              "    <tr style=\"text-align: right;\">\n",
              "      <th></th>\n",
              "      <th>Orbit_ES-L1</th>\n",
              "      <th>Orbit_GEO</th>\n",
              "      <th>Orbit_GTO</th>\n",
              "      <th>Orbit_HEO</th>\n",
              "      <th>Orbit_ISS</th>\n",
              "      <th>Orbit_LEO</th>\n",
              "      <th>Orbit_MEO</th>\n",
              "      <th>Orbit_PO</th>\n",
              "      <th>Orbit_SO</th>\n",
              "      <th>Orbit_SSO</th>\n",
              "      <th>...</th>\n",
              "      <th>Serial_B1048</th>\n",
              "      <th>Serial_B1049</th>\n",
              "      <th>Serial_B1050</th>\n",
              "      <th>Serial_B1051</th>\n",
              "      <th>Serial_B1054</th>\n",
              "      <th>Serial_B1056</th>\n",
              "      <th>Serial_B1058</th>\n",
              "      <th>Serial_B1059</th>\n",
              "      <th>Serial_B1060</th>\n",
              "      <th>Serial_B1062</th>\n",
              "    </tr>\n",
              "  </thead>\n",
              "  <tbody>\n",
              "    <tr>\n",
              "      <th>0</th>\n",
              "      <td>0.0</td>\n",
              "      <td>0.0</td>\n",
              "      <td>0.0</td>\n",
              "      <td>0.0</td>\n",
              "      <td>0.0</td>\n",
              "      <td>1.0</td>\n",
              "      <td>0.0</td>\n",
              "      <td>0.0</td>\n",
              "      <td>0.0</td>\n",
              "      <td>0.0</td>\n",
              "      <td>...</td>\n",
              "      <td>0.0</td>\n",
              "      <td>0.0</td>\n",
              "      <td>0.0</td>\n",
              "      <td>0.0</td>\n",
              "      <td>0.0</td>\n",
              "      <td>0.0</td>\n",
              "      <td>0.0</td>\n",
              "      <td>0.0</td>\n",
              "      <td>0.0</td>\n",
              "      <td>0.0</td>\n",
              "    </tr>\n",
              "    <tr>\n",
              "      <th>1</th>\n",
              "      <td>0.0</td>\n",
              "      <td>0.0</td>\n",
              "      <td>0.0</td>\n",
              "      <td>0.0</td>\n",
              "      <td>0.0</td>\n",
              "      <td>1.0</td>\n",
              "      <td>0.0</td>\n",
              "      <td>0.0</td>\n",
              "      <td>0.0</td>\n",
              "      <td>0.0</td>\n",
              "      <td>...</td>\n",
              "      <td>0.0</td>\n",
              "      <td>0.0</td>\n",
              "      <td>0.0</td>\n",
              "      <td>0.0</td>\n",
              "      <td>0.0</td>\n",
              "      <td>0.0</td>\n",
              "      <td>0.0</td>\n",
              "      <td>0.0</td>\n",
              "      <td>0.0</td>\n",
              "      <td>0.0</td>\n",
              "    </tr>\n",
              "    <tr>\n",
              "      <th>2</th>\n",
              "      <td>0.0</td>\n",
              "      <td>0.0</td>\n",
              "      <td>0.0</td>\n",
              "      <td>0.0</td>\n",
              "      <td>1.0</td>\n",
              "      <td>0.0</td>\n",
              "      <td>0.0</td>\n",
              "      <td>0.0</td>\n",
              "      <td>0.0</td>\n",
              "      <td>0.0</td>\n",
              "      <td>...</td>\n",
              "      <td>0.0</td>\n",
              "      <td>0.0</td>\n",
              "      <td>0.0</td>\n",
              "      <td>0.0</td>\n",
              "      <td>0.0</td>\n",
              "      <td>0.0</td>\n",
              "      <td>0.0</td>\n",
              "      <td>0.0</td>\n",
              "      <td>0.0</td>\n",
              "      <td>0.0</td>\n",
              "    </tr>\n",
              "    <tr>\n",
              "      <th>3</th>\n",
              "      <td>0.0</td>\n",
              "      <td>0.0</td>\n",
              "      <td>0.0</td>\n",
              "      <td>0.0</td>\n",
              "      <td>0.0</td>\n",
              "      <td>0.0</td>\n",
              "      <td>0.0</td>\n",
              "      <td>1.0</td>\n",
              "      <td>0.0</td>\n",
              "      <td>0.0</td>\n",
              "      <td>...</td>\n",
              "      <td>0.0</td>\n",
              "      <td>0.0</td>\n",
              "      <td>0.0</td>\n",
              "      <td>0.0</td>\n",
              "      <td>0.0</td>\n",
              "      <td>0.0</td>\n",
              "      <td>0.0</td>\n",
              "      <td>0.0</td>\n",
              "      <td>0.0</td>\n",
              "      <td>0.0</td>\n",
              "    </tr>\n",
              "    <tr>\n",
              "      <th>4</th>\n",
              "      <td>0.0</td>\n",
              "      <td>0.0</td>\n",
              "      <td>1.0</td>\n",
              "      <td>0.0</td>\n",
              "      <td>0.0</td>\n",
              "      <td>0.0</td>\n",
              "      <td>0.0</td>\n",
              "      <td>0.0</td>\n",
              "      <td>0.0</td>\n",
              "      <td>0.0</td>\n",
              "      <td>...</td>\n",
              "      <td>0.0</td>\n",
              "      <td>0.0</td>\n",
              "      <td>0.0</td>\n",
              "      <td>0.0</td>\n",
              "      <td>0.0</td>\n",
              "      <td>0.0</td>\n",
              "      <td>0.0</td>\n",
              "      <td>0.0</td>\n",
              "      <td>0.0</td>\n",
              "      <td>0.0</td>\n",
              "    </tr>\n",
              "  </tbody>\n",
              "</table>\n",
              "<p>5 rows × 72 columns</p>\n",
              "</div>"
            ],
            "text/plain": [
              "   Orbit_ES-L1  Orbit_GEO  Orbit_GTO  Orbit_HEO  Orbit_ISS  Orbit_LEO  \\\n",
              "0          0.0        0.0        0.0        0.0        0.0        1.0   \n",
              "1          0.0        0.0        0.0        0.0        0.0        1.0   \n",
              "2          0.0        0.0        0.0        0.0        1.0        0.0   \n",
              "3          0.0        0.0        0.0        0.0        0.0        0.0   \n",
              "4          0.0        0.0        1.0        0.0        0.0        0.0   \n",
              "\n",
              "   Orbit_MEO  Orbit_PO  Orbit_SO  Orbit_SSO  ...  Serial_B1048  Serial_B1049  \\\n",
              "0        0.0       0.0       0.0        0.0  ...           0.0           0.0   \n",
              "1        0.0       0.0       0.0        0.0  ...           0.0           0.0   \n",
              "2        0.0       0.0       0.0        0.0  ...           0.0           0.0   \n",
              "3        0.0       1.0       0.0        0.0  ...           0.0           0.0   \n",
              "4        0.0       0.0       0.0        0.0  ...           0.0           0.0   \n",
              "\n",
              "   Serial_B1050  Serial_B1051  Serial_B1054  Serial_B1056  Serial_B1058  \\\n",
              "0           0.0           0.0           0.0           0.0           0.0   \n",
              "1           0.0           0.0           0.0           0.0           0.0   \n",
              "2           0.0           0.0           0.0           0.0           0.0   \n",
              "3           0.0           0.0           0.0           0.0           0.0   \n",
              "4           0.0           0.0           0.0           0.0           0.0   \n",
              "\n",
              "   Serial_B1059  Serial_B1060  Serial_B1062  \n",
              "0           0.0           0.0           0.0  \n",
              "1           0.0           0.0           0.0  \n",
              "2           0.0           0.0           0.0  \n",
              "3           0.0           0.0           0.0  \n",
              "4           0.0           0.0           0.0  \n",
              "\n",
              "[5 rows x 72 columns]"
            ]
          },
          "execution_count": 33,
          "metadata": {},
          "output_type": "execute_result"
        }
      ],
      "source": [
        "# HINT: use astype function\n",
        "features_one_hot = features_one_hot.astype('float64')\n",
        "features_one_hot.head()"
      ]
    },
    {
      "cell_type": "markdown",
      "metadata": {},
      "source": [
        "We can now export it to a <b>CSV</b> for the next section,but to make the answers consistent, in the next lab we will provide data in a pre-selected date range.\n"
      ]
    },
    {
      "cell_type": "code",
      "execution_count": 34,
      "metadata": {
        "trusted": true
      },
      "outputs": [
        {
          "name": "stderr",
          "output_type": "stream",
          "text": [
            "<unknown>:1: SyntaxWarning: invalid escape sequence '\\_'\n",
            "<>:1: SyntaxWarning: invalid escape sequence '\\_'\n",
            "<>:1: SyntaxWarning: invalid escape sequence '\\_'\n",
            "<ipython-input-34-2218dfcbde81>:1: SyntaxWarning: invalid escape sequence '\\_'\n",
            "  features_one_hot.to_csv('dataset_part\\_3.csv', index=False)\n"
          ]
        }
      ],
      "source": [
        "features_one_hot.to_csv('dataset_part\\_3.csv', index=False)\n"
      ]
    },
    {
      "cell_type": "markdown",
      "metadata": {},
      "source": [
        "## Authors\n"
      ]
    },
    {
      "cell_type": "markdown",
      "metadata": {},
      "source": [
        "[Pratiksha Verma](https://www.linkedin.com/in/pratiksha-verma-6487561b1/)\n"
      ]
    },
    {
      "cell_type": "markdown",
      "metadata": {},
      "source": [
        "<!--## Change Log-->\n"
      ]
    },
    {
      "cell_type": "markdown",
      "metadata": {},
      "source": [
        "<!--\n",
        "| Date (YYYY-MM-DD) | Version | Changed By      | Change Description      |\n",
        "| ----------------- | ------- | -------------   | ----------------------- |\n",
        "| 2022-11-09        | 1.0     | Pratiksha Verma | Converted initial version to Jupyterlite|\n",
        "| 2024-07-18        | 1.2     | Anita Verma | Clarified instructions|\n",
        "-->\n"
      ]
    },
    {
      "cell_type": "markdown",
      "metadata": {},
      "source": [
        "### <h3 align=\"center\"> IBM Corporation 2022. All rights reserved. <h3/>\n"
      ]
    }
  ],
  "metadata": {
    "kernelspec": {
      "display_name": "Python (Pyodide)",
      "language": "python",
      "name": "python"
    },
    "language_info": {
      "codemirror_mode": {
        "name": "python",
        "version": 3
      },
      "file_extension": ".py",
      "mimetype": "text/x-python",
      "name": "python",
      "nbconvert_exporter": "python",
      "pygments_lexer": "ipython3",
      "version": "3.8"
    },
    "prev_pub_hash": "0c470061d7abae1632b4f11c1561e6cfda5dface0e860d070afade5beb8bfaed"
  },
  "nbformat": 4,
  "nbformat_minor": 4
}
